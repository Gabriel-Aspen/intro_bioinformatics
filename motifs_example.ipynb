{
 "cells": [
  {
   "cell_type": "code",
   "execution_count": 1,
   "metadata": {},
   "outputs": [],
   "source": [
    "from motifs import *\n",
    "from genebank import DosR, simple"
   ]
  },
  {
   "cell_type": "code",
   "execution_count": 60,
   "metadata": {},
   "outputs": [
    {
     "name": "stdout",
     "output_type": "stream",
     "text": [
      "G A T C T G\n",
      "A T C G T C\n",
      "T C A A T C\n",
      "A T C T A G\n"
     ]
    }
   ],
   "source": [
    "for motif in simple:\n",
    "    print(*motif)"
   ]
  },
  {
   "cell_type": "code",
   "execution_count": 40,
   "metadata": {},
   "outputs": [
    {
     "data": {
      "text/plain": [
       "{'A': [2, 1, 1, 1, 1, 0],\n",
       " 'C': [0, 1, 2, 1, 0, 2],\n",
       " 'G': [1, 0, 0, 1, 0, 2],\n",
       " 'T': [1, 2, 1, 1, 3, 0]}"
      ]
     },
     "execution_count": 40,
     "metadata": {},
     "output_type": "execute_result"
    }
   ],
   "source": [
    "count = Count(simple)\n",
    "count"
   ]
  },
  {
   "cell_type": "code",
   "execution_count": 41,
   "metadata": {},
   "outputs": [
    {
     "data": {
      "text/plain": [
       "{'A': [0.5, 0.25, 0.25, 0.25, 0.25, 0.0],\n",
       " 'C': [0.0, 0.25, 0.5, 0.25, 0.0, 0.5],\n",
       " 'G': [0.25, 0.0, 0.0, 0.25, 0.0, 0.5],\n",
       " 'T': [0.25, 0.5, 0.25, 0.25, 0.75, 0.0]}"
      ]
     },
     "execution_count": 41,
     "metadata": {},
     "output_type": "execute_result"
    }
   ],
   "source": [
    "profile = Profile(simple)\n",
    "profile"
   ]
  },
  {
   "cell_type": "code",
   "execution_count": 39,
   "metadata": {},
   "outputs": [
    {
     "name": "stdout",
     "output_type": "stream",
     "text": [
      "0.01171875\n",
      "0.0009765625\n",
      "0.0\n"
     ]
    }
   ],
   "source": [
    "print(Pr(\"ATCATC\", Profile(simple)))\n",
    "print(Pr(\"TACAAG\", Profile(simple)))\n",
    "print(Pr(\"GATACA\", Profile(simple)))"
   ]
  },
  {
   "cell_type": "code",
   "execution_count": 49,
   "metadata": {},
   "outputs": [
    {
     "data": {
      "text/plain": [
       "'ATCATC'"
      ]
     },
     "execution_count": 49,
     "metadata": {},
     "output_type": "execute_result"
    }
   ],
   "source": [
    "Consensus(simple)"
   ]
  },
  {
   "cell_type": "code",
   "execution_count": 58,
   "metadata": {},
   "outputs": [
    {
     "data": {
      "text/plain": [
       "'GAC'"
      ]
     },
     "execution_count": 58,
     "metadata": {},
     "output_type": "execute_result"
    }
   ],
   "source": [
    "k = 3\n",
    "most_probable_kmer = ProfileMostProbableKmer(\"AGAGAC\", k, profile)\n",
    "most_probable_kmer"
   ]
  },
  {
   "cell_type": "code",
   "execution_count": 6,
   "metadata": {},
   "outputs": [
    {
     "name": "stdout",
     "output_type": "stream",
     "text": [
      "['ATC', 'ATC', 'ATC', 'ATC']\n"
     ]
    }
   ],
   "source": [
    "k = 3\n",
    "t = 4 #the number of motifs we are searching through\n",
    "bestMotifs = GreedyMotifSearch(simple, k, 4)\n",
    "print(bestMotifs)"
   ]
  },
  {
   "cell_type": "code",
   "execution_count": null,
   "metadata": {},
   "outputs": [],
   "source": []
  },
  {
   "cell_type": "code",
   "execution_count": null,
   "metadata": {},
   "outputs": [],
   "source": []
  }
 ],
 "metadata": {
  "kernelspec": {
   "display_name": "Python 3",
   "language": "python",
   "name": "python3"
  },
  "language_info": {
   "codemirror_mode": {
    "name": "ipython",
    "version": 3
   },
   "file_extension": ".py",
   "mimetype": "text/x-python",
   "name": "python",
   "nbconvert_exporter": "python",
   "pygments_lexer": "ipython3",
   "version": "3.7.4"
  }
 },
 "nbformat": 4,
 "nbformat_minor": 2
}
